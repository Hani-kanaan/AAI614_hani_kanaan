{
  "nbformat": 4,
  "nbformat_minor": 0,
  "metadata": {
    "colab": {
      "provenance": []
    },
    "kernelspec": {
      "name": "python3",
      "display_name": "Python 3"
    },
    "language_info": {
      "name": "python"
    }
  },
  "cells": [
    {
      "cell_type": "markdown",
      "source": [
        "link to repo :\n",
        "https://github.com/Hani-kanaan/AAI614_hani_kanaan"
      ],
      "metadata": {
        "id": "uKe0TpqvPksu"
      }
    }
  ]
}